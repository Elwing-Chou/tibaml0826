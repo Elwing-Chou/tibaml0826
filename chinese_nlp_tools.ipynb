{
  "nbformat": 4,
  "nbformat_minor": 0,
  "metadata": {
    "colab": {
      "name": "chinese_nlp_tools.ipynb",
      "provenance": [],
      "authorship_tag": "ABX9TyMaVvXq2wyi9ggsdILvIW0s",
      "include_colab_link": true
    },
    "kernelspec": {
      "name": "python3",
      "display_name": "Python 3"
    },
    "language_info": {
      "name": "python"
    }
  },
  "cells": [
    {
      "cell_type": "markdown",
      "metadata": {
        "id": "view-in-github",
        "colab_type": "text"
      },
      "source": [
        "<a href=\"https://colab.research.google.com/github/Elwing-Chou/tibaml0826/blob/main/chinese_nlp_tools.ipynb\" target=\"_parent\"><img src=\"https://colab.research.google.com/assets/colab-badge.svg\" alt=\"Open In Colab\"/></a>"
      ]
    },
    {
      "cell_type": "code",
      "execution_count": null,
      "metadata": {
        "id": "G7gld_4OIrxt"
      },
      "outputs": [],
      "source": [
        "!pip install opencc-python-reimplemented"
      ]
    },
    {
      "cell_type": "code",
      "source": [
        "to_convert = \"\"\"繁体中文。\n",
        "为什么会觉得烦呢？也许让我们学写繁体中文的话，我们可能会烦。\n",
        "主要看所处的环境。\n",
        "如果楼主从一出生就学的是繁体中文的话，现在让你学写简体中文，你也会烦的。如果一个英语为母语的国家，让他们的人民学中文，不管是繁体还是简体都会烦。\n",
        "要你用你的纯母语来书写，应该是最顺手的吧\"\"\""
      ],
      "metadata": {
        "id": "xiggNT1YLAhy"
      },
      "execution_count": 2,
      "outputs": []
    },
    {
      "cell_type": "code",
      "source": [
        "from opencc import OpenCC\n",
        "cc = OpenCC('s2tw')  # convert from Simplified Chinese to Traditional Chinese\n",
        "# can also set conversion by calling set_conversion\n",
        "# cc.set_conversion('s2tw')\n",
        "converted = cc.convert(to_convert)\n",
        "converted"
      ],
      "metadata": {
        "colab": {
          "base_uri": "https://localhost:8080/",
          "height": 70
        },
        "id": "X-3bIYDWKLpl",
        "outputId": "c4432560-8922-489a-8f09-010ab8d591be"
      },
      "execution_count": 3,
      "outputs": [
        {
          "output_type": "execute_result",
          "data": {
            "text/plain": [
              "'繁體中文。\\n為什麼會覺得煩呢？也許讓我們學寫繁體中文的話，我們可能會煩。\\n主要看所處的環境。\\n如果樓主從一出生就學的是繁體中文的話，現在讓你學寫簡體中文，你也會煩的。如果一個英語為母語的國家，讓他們的人民學中文，不管是繁體還是簡體都會煩。\\n要你用你的純母語來書寫，應該是最順手的吧'"
            ],
            "application/vnd.google.colaboratory.intrinsic+json": {
              "type": "string"
            }
          },
          "metadata": {},
          "execution_count": 3
        }
      ]
    },
    {
      "cell_type": "code",
      "source": [
        "import jieba\n",
        "from urllib.request import urlretrieve\n",
        "\n",
        "url = \"https://github.com/fxsjy/jieba/raw/master/extra_dict/dict.txt.big\"\n",
        "urlretrieve(url, \"dict.big\")\n",
        "jieba.set_dictionary(\"dict.big\")\n",
        "\n",
        "with open(\"news.txt\", \"r\", encoding=\"utf-8\") as f:\n",
        "    content = f.read()\n",
        "\n",
        "result = \" \".join(jieba.cut(content))\n",
        "result"
      ],
      "metadata": {
        "colab": {
          "base_uri": "https://localhost:8080/",
          "height": 365
        },
        "id": "CErr8Ap-OG-l",
        "outputId": "61251059-23dd-487b-abad-af296ac3e465"
      },
      "execution_count": 7,
      "outputs": [
        {
          "output_type": "stream",
          "name": "stderr",
          "text": [
            "Building prefix dict from /content/dict.big ...\n",
            "DEBUG:jieba:Building prefix dict from /content/dict.big ...\n",
            "Dumping model to file cache /tmp/jieba.u07306b11e64fa1786267fcd71f361dde.cache\n",
            "DEBUG:jieba:Dumping model to file cache /tmp/jieba.u07306b11e64fa1786267fcd71f361dde.cache\n",
            "Loading model cost 1.297 seconds.\n",
            "DEBUG:jieba:Loading model cost 1.297 seconds.\n",
            "Prefix dict has been built successfully.\n",
            "DEBUG:jieba:Prefix dict has been built successfully.\n"
          ]
        },
        {
          "output_type": "execute_result",
          "data": {
            "text/plain": [
              "'有 一名 女網友 因為將 鹹蛋 切開 後 ， 發現 蛋白 的 部分 竟 呈現 粉紅色 的 狀態 ， 就 將所見 拍 下並 PO 上網 ， 不少 網友 見到 粉色 的 鹹蛋 之後 也 紛紛 開玩笑 表示 「 那 隻 鴨子 吃太多 紅色 火龍果 了 嗎 ？ 」 ， 不過 也 有 不少 網友 拿出 搜尋 到 的 資料 急 勸 「 千萬別 吃 」 ， 因為 鴨蛋 很 有 可能 易經 被 感染 且 腐敗 了 。 \\n \\n 一名 女網友 在 臉 書社 團 《 爆廢 公社 》 發文 ， 指出 自己 第一次 見到 粉紅色 的 鹹蛋 ， 還說 「 美到 想 拍下來 」 ， 從原 PO 附上 的 照片 可以 見到 ， 其中 一顆 鴨蛋 的 蛋白 已經 變成 了 粉紅色 且 帶點 紫色 的 狀態 ， 看起來 好像 快 發霉 ， 但 黃 的 顏色 也 比 一般 蛋黃 看起來 更為 乳白 ， 這讓 原 PO 相當 困惑 ， 質問 「 是 發生 什麼 事 了 」 。 \\n \\n 網友 驚奇 出現 粉色 鴨蛋 。 （ 圖 ／ 翻攝 自爆 廢 公社 ） \\n 網友 驚奇 出現 粉色 鴨蛋 。 （ 圖 ／ 翻攝 自爆 廢 公社 ） \\n 不少 網友 見到 粉色 鹹蛋 之後 也 大感 驚奇 ， 紛紛 留言 表示 「 鴨子 吃 了 火龍果 」 、 「 有顆 少女 心 的 蛋 」 、 「 不要 玩 草莓 冰淇淋 」 、 「 拜拜 插香 染色 」 、 「 惡魔 果實 ， 吃 了 會 變鹹 蛋 超人 」 、 「 鴨 媽媽 吃太多 火龍果 了 」 、 「 戀愛 中 的 鹹蛋 周圍 總是 冒著 粉紅 泡泡 」 、 「 鴨 媽媽 有 粉紅 的 少女 心 」 、 「 色素 打 一針 就 有 了 」 、 「 草莓 口味 啦 」 。 \\n \\n 不過 也 有 網友 找到 資料 指出 ， 據 美國農業部 （ USDA ） 說法 ， 蛋白 若 呈 混濁 ， 代表 生 雞蛋 很 新鮮 ， 反之 蛋白 為 透明 無色 ， 表示 雞蛋 正在 老化 ； 若 蛋白 呈現 粉紅色 或 珍珠 色 的 蛋白 ， 代表 綠膿桿菌 （ Pseudomonas ） 已 引發 腐敗 ， 無法 食用 。 而 綠膿桿菌 是 「 人類 伺機 性 致病菌 」 ， 對 健康 的 個體 不 具有 病原 性 ， 若 水中 含有 綠膿桿菌 ， 肢體 接觸 後 對於 抵抗力 較差 的 老人 或 小孩 ， 就 可能 引起 皮膚 傷口 化膿 、 眼睛 感染 等 症狀 ， 甚至 呼吸道 、 泌尿道 生殖系統 也 可能 受 感染 ， 嚴重者 可能 導致 腦膜炎 。 \\n \\n 若 蛋類 出現 異狀 應 小心 判斷 以免 誤食 。 （ 示意圖 ／ TVBS 資料 畫面 ） \\n 若 蛋類 出現 異狀 應 小心 判斷 以免 誤食 。 （ 示意圖 ／ TVBS 資料 畫面 ） \\n 許多 網友 都 勸原 PO 別 食用 這樣 的 鹹蛋 ， 並 表示 「 吃 完 直達 蘇州 」 、 「 千萬別 吃 ， 而且 切蛋 沾 到 的 菜刀 要 馬上 清洗 」 、 「 那個 吃 了 會 看到 祖先 喔 ！ 」 、 「 有毒 勿 食 」 。'"
            ],
            "application/vnd.google.colaboratory.intrinsic+json": {
              "type": "string"
            }
          },
          "metadata": {},
          "execution_count": 7
        }
      ]
    }
  ]
}