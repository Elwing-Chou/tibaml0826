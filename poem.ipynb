{
  "nbformat": 4,
  "nbformat_minor": 0,
  "metadata": {
    "colab": {
      "provenance": [],
      "authorship_tag": "ABX9TyPV0gg3F4VQG9NraqoyO5st",
      "include_colab_link": true
    },
    "kernelspec": {
      "name": "python3",
      "display_name": "Python 3"
    },
    "language_info": {
      "name": "python"
    }
  },
  "cells": [
    {
      "cell_type": "markdown",
      "metadata": {
        "id": "view-in-github",
        "colab_type": "text"
      },
      "source": [
        "<a href=\"https://colab.research.google.com/github/Elwing-Chou/tibaml0826/blob/main/poem.ipynb\" target=\"_parent\"><img src=\"https://colab.research.google.com/assets/colab-badge.svg\" alt=\"Open In Colab\"/></a>"
      ]
    },
    {
      "cell_type": "code",
      "execution_count": 1,
      "metadata": {
        "colab": {
          "base_uri": "https://localhost:8080/"
        },
        "id": "cWKpoD4_Mtj8",
        "outputId": "f76890bf-0482-4bdd-991b-51752f13007f"
      },
      "outputs": [
        {
          "output_type": "execute_result",
          "data": {
            "text/plain": [
              "('test.csv', <http.client.HTTPMessage at 0x7fea07416d90>)"
            ]
          },
          "metadata": {},
          "execution_count": 1
        }
      ],
      "source": [
        "from urllib.request import urlretrieve\n",
        "url = \"https://github.com/Elwing-Chou/tibaml0826/raw/main/poem_train.csv\"\n",
        "urlretrieve(url, \"train.csv\")\n",
        "url = \"https://github.com/Elwing-Chou/tibaml0826/raw/main/poem_test.csv\"\n",
        "urlretrieve(url, \"test.csv\")"
      ]
    },
    {
      "cell_type": "code",
      "source": [
        "import pandas as pd\n",
        "train_df = pd.read_csv(\"train.csv\", encoding=\"utf-8\")\n",
        "test_df = pd.read_csv(\"test.csv\", encoding=\"utf-8\")"
      ],
      "metadata": {
        "id": "nLFI5y43PdRN"
      },
      "execution_count": 2,
      "outputs": []
    },
    {
      "cell_type": "code",
      "source": [
        "test_df"
      ],
      "metadata": {
        "id": "EA9oUSWSPouc"
      },
      "execution_count": null,
      "outputs": []
    },
    {
      "cell_type": "code",
      "source": [
        "# 凡事皆物件: 所有東西都是具有型態(Type)\n",
        "# 字典: dic  操作: [key]\n",
        "# 函式你也要把它分開\n",
        "# 函式型態: print           操作: (3+2)\n",
        "#     : 還沒打開的錦囊(步驟集合)  操作: 打開執行\n",
        "b = int\n",
        "b(4.2)"
      ],
      "metadata": {
        "colab": {
          "base_uri": "https://localhost:8080/"
        },
        "id": "PkQpYUWcS-pg",
        "outputId": "2ec3bad0-7d37-4126-f7fb-47df3b3009ff"
      },
      "execution_count": 6,
      "outputs": [
        {
          "output_type": "execute_result",
          "data": {
            "text/plain": [
              "4"
            ]
          },
          "metadata": {},
          "execution_count": 6
        }
      ]
    },
    {
      "cell_type": "code",
      "source": [
        "def test(n):\n",
        "    if n == 0:\n",
        "        return int\n",
        "    else:\n",
        "        return round\n",
        "test(1)(4.24223, 2)"
      ],
      "metadata": {
        "colab": {
          "base_uri": "https://localhost:8080/"
        },
        "id": "C7UfjDqpUvCz",
        "outputId": "8df8c41c-c296-4ec1-b4c5-251202dee099"
      },
      "execution_count": 12,
      "outputs": [
        {
          "output_type": "execute_result",
          "data": {
            "text/plain": [
              "4.24"
            ]
          },
          "metadata": {},
          "execution_count": 12
        }
      ]
    },
    {
      "cell_type": "code",
      "source": [
        "l = [-3, 2, 1, 4]\n",
        "sorted(l, key=abs)\n",
        "students = [\n",
        "    (170, 80),\n",
        "    (180, 85),\n",
        "    (180, 70)\n",
        "]\n",
        "def trans(s):\n",
        "    return s[0]\n",
        "# 身高小到大, 體重維持原本排序\n",
        "sorted(students, key=lambda s:s[0])\n",
        "# 平常的sorted\n",
        "sorted(students, key=lambda s:(s[0], s[1]))\n",
        "# 身高小到大, 體重大到小\n",
        "sorted(students, key=lambda s:(s[0], -s[1]))"
      ],
      "metadata": {
        "colab": {
          "base_uri": "https://localhost:8080/"
        },
        "id": "GUkSaPcUWXaR",
        "outputId": "29d6657b-e77d-4b3c-a9f4-5bbb3f66ed67"
      },
      "execution_count": 21,
      "outputs": [
        {
          "output_type": "execute_result",
          "data": {
            "text/plain": [
              "[(170, 80), (180, 85), (180, 70)]"
            ]
          },
          "metadata": {},
          "execution_count": 21
        }
      ]
    }
  ]
}